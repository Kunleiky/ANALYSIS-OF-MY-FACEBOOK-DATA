{
 "cells": [
  {
   "cell_type": "markdown",
   "metadata": {},
   "source": [
    "# IN THIS PROJECT, I CARRIED OUT AN ANALYSIS OF ALL MY FACEBOOK POSTS SINCE I JOINED THE SOCIAL MEDIA APP. \n",
    "## FACEBOOK MAKES IT EASIER  TO DOWNLOAD ALL YOUR DATA SINCE YOU STARTED USING IT."
   ]
  },
  {
   "cell_type": "code",
   "execution_count": 2,
   "metadata": {
    "ExecuteTime": {
     "end_time": "2020-12-29T16:15:42.164747Z",
     "start_time": "2020-12-29T16:14:50.615178Z"
    }
   },
   "outputs": [],
   "source": [
    "#import necessary libraries\n",
    "%matplotlib inline\n",
    "import pandas as pd\n",
    "import numpy as np\n",
    "import matplotlib.pyplot as plt\n",
    "import seaborn as sns\n",
    "sns.set_style('darkgrid')\n",
    "sns.set(rc={'figure.figsize': (40, 20)})\n",
    "sns.set(font='sans-serif')\n",
    "sns.set(font_scale=5)"
   ]
  },
  {
   "cell_type": "code",
   "execution_count": 3,
   "metadata": {
    "ExecuteTime": {
     "end_time": "2020-12-29T16:17:13.919092Z",
     "start_time": "2020-12-29T16:17:12.762792Z"
    }
   },
   "outputs": [],
   "source": [
    "fb_data=pd.read_json('your_posts_1.json')"
   ]
  },
  {
   "cell_type": "code",
   "execution_count": 4,
   "metadata": {
    "ExecuteTime": {
     "end_time": "2020-12-29T16:17:14.247231Z",
     "start_time": "2020-12-29T16:17:14.090975Z"
    }
   },
   "outputs": [
    {
     "data": {
      "text/html": [
       "<div>\n",
       "<style scoped>\n",
       "    .dataframe tbody tr th:only-of-type {\n",
       "        vertical-align: middle;\n",
       "    }\n",
       "\n",
       "    .dataframe tbody tr th {\n",
       "        vertical-align: top;\n",
       "    }\n",
       "\n",
       "    .dataframe thead th {\n",
       "        text-align: right;\n",
       "    }\n",
       "</style>\n",
       "<table border=\"1\" class=\"dataframe\">\n",
       "  <thead>\n",
       "    <tr style=\"text-align: right;\">\n",
       "      <th></th>\n",
       "      <th>timestamp</th>\n",
       "      <th>attachments</th>\n",
       "      <th>data</th>\n",
       "      <th>title</th>\n",
       "      <th>tags</th>\n",
       "    </tr>\n",
       "  </thead>\n",
       "  <tbody>\n",
       "    <tr>\n",
       "      <th>0</th>\n",
       "      <td>2020-11-07 06:56:18</td>\n",
       "      <td>[{'data': [{'media': {'uri': 'photos_and_video...</td>\n",
       "      <td>[{'post': 'The Words That Make The Threads\n",
       "\n",
       "Na...</td>\n",
       "      <td>NaN</td>\n",
       "      <td>NaN</td>\n",
       "    </tr>\n",
       "    <tr>\n",
       "      <th>1</th>\n",
       "      <td>2020-11-07 05:47:23</td>\n",
       "      <td>[{'data': [{'media': {'uri': 'photos_and_video...</td>\n",
       "      <td>[{'post': 'But just what is Power BI?\n",
       "\n",
       "Power B...</td>\n",
       "      <td>NaN</td>\n",
       "      <td>NaN</td>\n",
       "    </tr>\n",
       "    <tr>\n",
       "      <th>2</th>\n",
       "      <td>2020-11-04 09:48:49</td>\n",
       "      <td>[{'data': [{'media': {'uri': 'photos_and_video...</td>\n",
       "      <td>[{'post': 'The data revolution is here and has...</td>\n",
       "      <td>NaN</td>\n",
       "      <td>NaN</td>\n",
       "    </tr>\n",
       "  </tbody>\n",
       "</table>\n",
       "</div>"
      ],
      "text/plain": [
       "            timestamp                                        attachments  \\\n",
       "0 2020-11-07 06:56:18  [{'data': [{'media': {'uri': 'photos_and_video...   \n",
       "1 2020-11-07 05:47:23  [{'data': [{'media': {'uri': 'photos_and_video...   \n",
       "2 2020-11-04 09:48:49  [{'data': [{'media': {'uri': 'photos_and_video...   \n",
       "\n",
       "                                                data title tags  \n",
       "0  [{'post': 'The Words That Make The Threads\n",
       "\n",
       "Na...   NaN  NaN  \n",
       "1  [{'post': 'But just what is Power BI?\n",
       "\n",
       "Power B...   NaN  NaN  \n",
       "2  [{'post': 'The data revolution is here and has...   NaN  NaN  "
      ]
     },
     "execution_count": 4,
     "metadata": {},
     "output_type": "execute_result"
    }
   ],
   "source": [
    "fb_data.head(3)"
   ]
  },
  {
   "cell_type": "code",
   "execution_count": 5,
   "metadata": {
    "ExecuteTime": {
     "end_time": "2020-12-29T16:17:14.419120Z",
     "start_time": "2020-12-29T16:17:14.356611Z"
    }
   },
   "outputs": [
    {
     "data": {
      "text/html": [
       "<div>\n",
       "<style scoped>\n",
       "    .dataframe tbody tr th:only-of-type {\n",
       "        vertical-align: middle;\n",
       "    }\n",
       "\n",
       "    .dataframe tbody tr th {\n",
       "        vertical-align: top;\n",
       "    }\n",
       "\n",
       "    .dataframe thead th {\n",
       "        text-align: right;\n",
       "    }\n",
       "</style>\n",
       "<table border=\"1\" class=\"dataframe\">\n",
       "  <thead>\n",
       "    <tr style=\"text-align: right;\">\n",
       "      <th></th>\n",
       "      <th>timestamp</th>\n",
       "      <th>attachments</th>\n",
       "      <th>data</th>\n",
       "      <th>title</th>\n",
       "      <th>tags</th>\n",
       "    </tr>\n",
       "  </thead>\n",
       "  <tbody>\n",
       "    <tr>\n",
       "      <th>503</th>\n",
       "      <td>2011-07-17 19:02:11</td>\n",
       "      <td>[{'data': [{'media': {'uri': 'photos_and_video...</td>\n",
       "      <td>NaN</td>\n",
       "      <td>NaN</td>\n",
       "      <td>NaN</td>\n",
       "    </tr>\n",
       "    <tr>\n",
       "      <th>504</th>\n",
       "      <td>2011-07-16 21:02:20</td>\n",
       "      <td>[{'data': [{'media': {'uri': 'photos_and_video...</td>\n",
       "      <td>NaN</td>\n",
       "      <td>NaN</td>\n",
       "      <td>NaN</td>\n",
       "    </tr>\n",
       "    <tr>\n",
       "      <th>505</th>\n",
       "      <td>2011-07-15 11:23:41</td>\n",
       "      <td>[{'data': [{'media': {'uri': 'photos_and_video...</td>\n",
       "      <td>NaN</td>\n",
       "      <td>NaN</td>\n",
       "      <td>NaN</td>\n",
       "    </tr>\n",
       "  </tbody>\n",
       "</table>\n",
       "</div>"
      ],
      "text/plain": [
       "              timestamp                                        attachments  \\\n",
       "503 2011-07-17 19:02:11  [{'data': [{'media': {'uri': 'photos_and_video...   \n",
       "504 2011-07-16 21:02:20  [{'data': [{'media': {'uri': 'photos_and_video...   \n",
       "505 2011-07-15 11:23:41  [{'data': [{'media': {'uri': 'photos_and_video...   \n",
       "\n",
       "    data title tags  \n",
       "503  NaN   NaN  NaN  \n",
       "504  NaN   NaN  NaN  \n",
       "505  NaN   NaN  NaN  "
      ]
     },
     "execution_count": 5,
     "metadata": {},
     "output_type": "execute_result"
    }
   ],
   "source": [
    "fb_data.tail(3)"
   ]
  },
  {
   "cell_type": "code",
   "execution_count": 6,
   "metadata": {
    "ExecuteTime": {
     "end_time": "2020-12-29T16:17:14.559751Z",
     "start_time": "2020-12-29T16:17:14.497245Z"
    }
   },
   "outputs": [],
   "source": [
    "#Rename the timestamp column to date\n",
    "fb_data.rename(columns={'timestamp':'date'},inplace=True)"
   ]
  },
  {
   "cell_type": "code",
   "execution_count": 7,
   "metadata": {
    "ExecuteTime": {
     "end_time": "2020-12-29T16:17:14.981644Z",
     "start_time": "2020-12-29T16:17:14.903517Z"
    }
   },
   "outputs": [
    {
     "data": {
      "text/html": [
       "<div>\n",
       "<style scoped>\n",
       "    .dataframe tbody tr th:only-of-type {\n",
       "        vertical-align: middle;\n",
       "    }\n",
       "\n",
       "    .dataframe tbody tr th {\n",
       "        vertical-align: top;\n",
       "    }\n",
       "\n",
       "    .dataframe thead th {\n",
       "        text-align: right;\n",
       "    }\n",
       "</style>\n",
       "<table border=\"1\" class=\"dataframe\">\n",
       "  <thead>\n",
       "    <tr style=\"text-align: right;\">\n",
       "      <th></th>\n",
       "      <th>date</th>\n",
       "      <th>attachments</th>\n",
       "      <th>data</th>\n",
       "      <th>title</th>\n",
       "      <th>tags</th>\n",
       "    </tr>\n",
       "  </thead>\n",
       "  <tbody>\n",
       "    <tr>\n",
       "      <th>0</th>\n",
       "      <td>2020-11-07 06:56:18</td>\n",
       "      <td>[{'data': [{'media': {'uri': 'photos_and_video...</td>\n",
       "      <td>[{'post': 'The Words That Make The Threads\n",
       "\n",
       "Na...</td>\n",
       "      <td>NaN</td>\n",
       "      <td>NaN</td>\n",
       "    </tr>\n",
       "    <tr>\n",
       "      <th>1</th>\n",
       "      <td>2020-11-07 05:47:23</td>\n",
       "      <td>[{'data': [{'media': {'uri': 'photos_and_video...</td>\n",
       "      <td>[{'post': 'But just what is Power BI?\n",
       "\n",
       "Power B...</td>\n",
       "      <td>NaN</td>\n",
       "      <td>NaN</td>\n",
       "    </tr>\n",
       "    <tr>\n",
       "      <th>2</th>\n",
       "      <td>2020-11-04 09:48:49</td>\n",
       "      <td>[{'data': [{'media': {'uri': 'photos_and_video...</td>\n",
       "      <td>[{'post': 'The data revolution is here and has...</td>\n",
       "      <td>NaN</td>\n",
       "      <td>NaN</td>\n",
       "    </tr>\n",
       "  </tbody>\n",
       "</table>\n",
       "</div>"
      ],
      "text/plain": [
       "                 date                                        attachments  \\\n",
       "0 2020-11-07 06:56:18  [{'data': [{'media': {'uri': 'photos_and_video...   \n",
       "1 2020-11-07 05:47:23  [{'data': [{'media': {'uri': 'photos_and_video...   \n",
       "2 2020-11-04 09:48:49  [{'data': [{'media': {'uri': 'photos_and_video...   \n",
       "\n",
       "                                                data title tags  \n",
       "0  [{'post': 'The Words That Make The Threads\n",
       "\n",
       "Na...   NaN  NaN  \n",
       "1  [{'post': 'But just what is Power BI?\n",
       "\n",
       "Power B...   NaN  NaN  \n",
       "2  [{'post': 'The data revolution is here and has...   NaN  NaN  "
      ]
     },
     "execution_count": 7,
     "metadata": {},
     "output_type": "execute_result"
    }
   ],
   "source": [
    "#Check the DataFrame\n",
    "fb_data.head(3)"
   ]
  },
  {
   "cell_type": "code",
   "execution_count": 8,
   "metadata": {
    "ExecuteTime": {
     "end_time": "2020-12-29T16:17:15.372287Z",
     "start_time": "2020-12-29T16:17:15.278534Z"
    }
   },
   "outputs": [
    {
     "data": {
      "text/html": [
       "<div>\n",
       "<style scoped>\n",
       "    .dataframe tbody tr th:only-of-type {\n",
       "        vertical-align: middle;\n",
       "    }\n",
       "\n",
       "    .dataframe tbody tr th {\n",
       "        vertical-align: top;\n",
       "    }\n",
       "\n",
       "    .dataframe thead th {\n",
       "        text-align: right;\n",
       "    }\n",
       "</style>\n",
       "<table border=\"1\" class=\"dataframe\">\n",
       "  <thead>\n",
       "    <tr style=\"text-align: right;\">\n",
       "      <th></th>\n",
       "      <th>date</th>\n",
       "      <th>data</th>\n",
       "    </tr>\n",
       "  </thead>\n",
       "  <tbody>\n",
       "    <tr>\n",
       "      <th>0</th>\n",
       "      <td>2020-11-07 06:56:18</td>\n",
       "      <td>[{'post': 'The Words That Make The Threads\n",
       "\n",
       "Na...</td>\n",
       "    </tr>\n",
       "    <tr>\n",
       "      <th>1</th>\n",
       "      <td>2020-11-07 05:47:23</td>\n",
       "      <td>[{'post': 'But just what is Power BI?\n",
       "\n",
       "Power B...</td>\n",
       "    </tr>\n",
       "    <tr>\n",
       "      <th>2</th>\n",
       "      <td>2020-11-04 09:48:49</td>\n",
       "      <td>[{'post': 'The data revolution is here and has...</td>\n",
       "    </tr>\n",
       "    <tr>\n",
       "      <th>3</th>\n",
       "      <td>2020-10-18 19:09:04</td>\n",
       "      <td>[{'post': 'I have chronicled the effort of the...</td>\n",
       "    </tr>\n",
       "    <tr>\n",
       "      <th>4</th>\n",
       "      <td>2020-10-18 09:14:14</td>\n",
       "      <td>[{'post': 'I have chronicled the effort of the...</td>\n",
       "    </tr>\n",
       "    <tr>\n",
       "      <th>...</th>\n",
       "      <td>...</td>\n",
       "      <td>...</td>\n",
       "    </tr>\n",
       "    <tr>\n",
       "      <th>501</th>\n",
       "      <td>2011-07-21 23:53:58</td>\n",
       "      <td>[{'post': 'Show me a thoroughly satisfied man ...</td>\n",
       "    </tr>\n",
       "    <tr>\n",
       "      <th>502</th>\n",
       "      <td>2011-07-21 23:47:58</td>\n",
       "      <td>[{'post': 'What a paradox the more you look th...</td>\n",
       "    </tr>\n",
       "    <tr>\n",
       "      <th>503</th>\n",
       "      <td>2011-07-17 19:02:11</td>\n",
       "      <td>NaN</td>\n",
       "    </tr>\n",
       "    <tr>\n",
       "      <th>504</th>\n",
       "      <td>2011-07-16 21:02:20</td>\n",
       "      <td>NaN</td>\n",
       "    </tr>\n",
       "    <tr>\n",
       "      <th>505</th>\n",
       "      <td>2011-07-15 11:23:41</td>\n",
       "      <td>NaN</td>\n",
       "    </tr>\n",
       "  </tbody>\n",
       "</table>\n",
       "<p>506 rows × 2 columns</p>\n",
       "</div>"
      ],
      "text/plain": [
       "                   date                                               data\n",
       "0   2020-11-07 06:56:18  [{'post': 'The Words That Make The Threads\n",
       "\n",
       "Na...\n",
       "1   2020-11-07 05:47:23  [{'post': 'But just what is Power BI?\n",
       "\n",
       "Power B...\n",
       "2   2020-11-04 09:48:49  [{'post': 'The data revolution is here and has...\n",
       "3   2020-10-18 19:09:04  [{'post': 'I have chronicled the effort of the...\n",
       "4   2020-10-18 09:14:14  [{'post': 'I have chronicled the effort of the...\n",
       "..                  ...                                                ...\n",
       "501 2011-07-21 23:53:58  [{'post': 'Show me a thoroughly satisfied man ...\n",
       "502 2011-07-21 23:47:58  [{'post': 'What a paradox the more you look th...\n",
       "503 2011-07-17 19:02:11                                                NaN\n",
       "504 2011-07-16 21:02:20                                                NaN\n",
       "505 2011-07-15 11:23:41                                                NaN\n",
       "\n",
       "[506 rows x 2 columns]"
      ]
     },
     "execution_count": 8,
     "metadata": {},
     "output_type": "execute_result"
    }
   ],
   "source": [
    "#Drop some unnecessary columns\n",
    "fb_data.drop(['attachments','title','tags'],axis=1)"
   ]
  },
  {
   "cell_type": "code",
   "execution_count": 9,
   "metadata": {
    "ExecuteTime": {
     "end_time": "2020-12-29T16:17:15.903567Z",
     "start_time": "2020-12-29T16:17:15.841063Z"
    }
   },
   "outputs": [
    {
     "data": {
      "text/plain": [
       "0     2020-11-07 06:56:18\n",
       "1     2020-11-07 05:47:23\n",
       "2     2020-11-04 09:48:49\n",
       "3     2020-10-18 19:09:04\n",
       "4     2020-10-18 09:14:14\n",
       "              ...        \n",
       "501   2011-07-21 23:53:58\n",
       "502   2011-07-21 23:47:58\n",
       "503   2011-07-17 19:02:11\n",
       "504   2011-07-16 21:02:20\n",
       "505   2011-07-15 11:23:41\n",
       "Name: date, Length: 506, dtype: datetime64[ns]"
      ]
     },
     "execution_count": 9,
     "metadata": {},
     "output_type": "execute_result"
    }
   ],
   "source": [
    "#Makin sure it is datetime format\n",
    "pd.to_datetime(fb_data['date'])"
   ]
  },
  {
   "cell_type": "code",
   "execution_count": 10,
   "metadata": {
    "ExecuteTime": {
     "end_time": "2020-12-29T16:17:16.403590Z",
     "start_time": "2020-12-29T16:17:16.372339Z"
    }
   },
   "outputs": [
    {
     "name": "stdout",
     "output_type": "stream",
     "text": [
      "(506, 5)\n"
     ]
    }
   ],
   "source": [
    "print(fb_data.shape)"
   ]
  },
  {
   "cell_type": "code",
   "execution_count": 15,
   "metadata": {
    "ExecuteTime": {
     "end_time": "2020-12-29T16:21:26.824862Z",
     "start_time": "2020-12-29T16:21:26.746594Z"
    }
   },
   "outputs": [],
   "source": [
    "fb_data=fb_data.set_index('date')"
   ]
  },
  {
   "cell_type": "code",
   "execution_count": 16,
   "metadata": {
    "ExecuteTime": {
     "end_time": "2020-12-29T16:21:29.949872Z",
     "start_time": "2020-12-29T16:21:29.527981Z"
    }
   },
   "outputs": [],
   "source": [
    "post_counts=fb_data['data'].resample('MS').size()"
   ]
  },
  {
   "cell_type": "code",
   "execution_count": 17,
   "metadata": {
    "ExecuteTime": {
     "end_time": "2020-12-29T16:21:30.621782Z",
     "start_time": "2020-12-29T16:21:30.590531Z"
    }
   },
   "outputs": [
    {
     "data": {
      "text/plain": [
       "date\n",
       "2011-07-01    9\n",
       "2011-08-01    4\n",
       "2011-09-01    5\n",
       "2011-10-01    4\n",
       "2011-11-01    4\n",
       "Freq: MS, Name: data, dtype: int64"
      ]
     },
     "execution_count": 17,
     "metadata": {},
     "output_type": "execute_result"
    }
   ],
   "source": [
    "post_counts.head()"
   ]
  },
  {
   "cell_type": "markdown",
   "metadata": {},
   "source": [
    "## Visualizing my Facebook usage\n"
   ]
  },
  {
   "cell_type": "code",
   "execution_count": 18,
   "metadata": {
    "ExecuteTime": {
     "end_time": "2020-12-29T16:21:32.856413Z",
     "start_time": "2020-12-29T16:21:32.840787Z"
    }
   },
   "outputs": [],
   "source": [
    "#set x labels \n",
    "x_labels=post_counts.index"
   ]
  },
  {
   "cell_type": "code",
   "execution_count": 31,
   "metadata": {
    "ExecuteTime": {
     "end_time": "2020-12-29T16:34:52.419584Z",
     "start_time": "2020-12-29T16:34:47.763113Z"
    }
   },
   "outputs": [
    {
     "data": {
      "image/png": "[encoded data removed]",
      "text/plain": [
       "<Figure size 2880x1440 with 1 Axes>"
      ]
     },
     "metadata": {},
     "output_type": "display_data"
    }
   ],
   "source": [
    "#Create bar plot \n",
    "sns.barplot(x_labels,post_counts,color='crimson')\n",
    "#Only show x-axis label for January 1 of every other year\n",
    "tick_positions=np.arange(10, len(x_labels),step=24)\n",
    "plt.title('Frequency of My Facebook Posts',fontweight='bold',fontsize=50)\n",
    "plt.ylabel(\"Post Counts\",fontweight='bold',fontsize=45)\n",
    "plt.xlabel(\"Date\",fontweight='bold',fontsize=45)\n",
    "plt.xticks(tick_positions,x_labels[tick_positions].strftime(\"%Y\"));"
   ]
  },
  {
   "cell_type": "code",
   "execution_count": null,
   "metadata": {},
   "outputs": [],
   "source": []
  }
 ],
 "metadata": {
  "hide_input": false,
  "kernelspec": {
   "display_name": "Python 3",
   "language": "python",
   "name": "python3"
  },
  "language_info": {
   "codemirror_mode": {
    "name": "ipython",
    "version": 3
   },
   "file_extension": ".py",
   "mimetype": "text/x-python",
   "name": "python",
   "nbconvert_exporter": "python",
   "pygments_lexer": "ipython3",
   "version": "3.7.6"
  },
  "varInspector": {
   "cols": {
    "lenName": 16,
    "lenType": 16,
    "lenVar": 40
   },
   "kernels_config": {
    "python": {
     "delete_cmd_postfix": "",
     "delete_cmd_prefix": "del ",
     "library": "var_list.py",
     "varRefreshCmd": "print(var_dic_list())"
    },
    "r": {
     "delete_cmd_postfix": ") ",
     "delete_cmd_prefix": "rm(",
     "library": "var_list.r",
     "varRefreshCmd": "cat(var_dic_list()) "
    }
   },
   "types_to_exclude": [
    "module",
    "function",
    "builtin_function_or_method",
    "instance",
    "_Feature"
   ],
   "window_display": false
  }
 },
 "nbformat": 4,
 "nbformat_minor": 4
}
